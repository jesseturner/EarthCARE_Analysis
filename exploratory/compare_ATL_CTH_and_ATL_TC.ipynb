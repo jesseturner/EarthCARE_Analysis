{
 "cells": [
  {
   "cell_type": "markdown",
   "id": "baa972fc",
   "metadata": {},
   "source": [
    "## Comparing between ATL_CTH_2A and ATL_TC__2A"
   ]
  },
  {
   "cell_type": "code",
   "execution_count": 1,
   "id": "45fdbc4d",
   "metadata": {},
   "outputs": [],
   "source": [
    "import h5py\n",
    "import matplotlib.pyplot as plt\n",
    "import numpy as np\n",
    "from datetime import datetime, timedelta\n",
    "import matplotlib.dates as mdates\n",
    "from matplotlib.colors import ListedColormap"
   ]
  },
  {
   "cell_type": "code",
   "execution_count": 2,
   "id": "353aae35",
   "metadata": {},
   "outputs": [],
   "source": [
    "class_path = 'data_ATL_TC_2A/ECA_EXAF_ATL_TC__2A_20250525T234738Z_20250526T013910Z_05633D.h5'\n",
    "cth_path = 'data_ATL_CTH_2A/ECA_EXAE_ATL_CTH_2A_20250617T050457Z_20250617T085638Z_05979B.h5'"
   ]
  },
  {
   "cell_type": "code",
   "execution_count": 3,
   "id": "4cbebd37",
   "metadata": {},
   "outputs": [],
   "source": [
    "with open('structure_ATL_TC__2A.txt', 'w') as out_file:\n",
    "    with h5py.File(class_path, 'r') as f:\n",
    "\n",
    "        def print_structure(name, obj):\n",
    "            if isinstance(obj, h5py.Group):\n",
    "                out_file.write(f\"[Group] {name}\\n\")\n",
    "            elif isinstance(obj, h5py.Dataset):\n",
    "                out_file.write(f\"[Dataset] {name} - shape: {obj.shape}, dtype: {obj.dtype}\\n\")\n",
    "\n",
    "            for key, val in obj.attrs.items():\n",
    "                out_file.write(f\"    [attr] {key}: {val}\\n\")\n",
    "\n",
    "        f.visititems(print_structure)\n",
    "\n",
    "        if f.attrs:\n",
    "            out_file.write(\"\\n[File-level Attributes]\\n\")\n",
    "            for key, val in f.attrs.items():\n",
    "                out_file.write(f\"    [attr] {key}: {val}\\n\")\n",
    "\n"
   ]
  },
  {
   "cell_type": "code",
   "execution_count": 7,
   "id": "0803e2e2",
   "metadata": {},
   "outputs": [],
   "source": [
    "#--- data from cloud top height\n",
    "with h5py.File(cth_path, 'r') as f:\n",
    "    dataset_path = 'ScienceData/ATLID_cloud_top_height'\n",
    "    cth_data = np.array(f[dataset_path][()])\n",
    "\n",
    "    time_path = 'ScienceData/time'\n",
    "    time_data = np.array(f[time_path][()])"
   ]
  },
  {
   "cell_type": "code",
   "execution_count": 8,
   "id": "5b02c847",
   "metadata": {},
   "outputs": [],
   "source": [
    "mask = cth_data != 9.96921e+36\n",
    "cth = cth_data[mask]/1000 # convert to km\n",
    "\n",
    "ref_time = datetime(2000, 1, 1, 0, 0, 0)\n",
    "cth_time = [ref_time + timedelta(seconds=sec) for sec in time_data[mask]]"
   ]
  },
  {
   "cell_type": "code",
   "execution_count": 9,
   "id": "85f5e617",
   "metadata": {},
   "outputs": [],
   "source": [
    "#--- data from cloud classification\n",
    "with h5py.File(class_path, 'r') as f:\n",
    "    dataset1_path = 'ScienceData/classification'\n",
    "    class_data = np.array(f[dataset1_path][()])\n",
    "\n",
    "    dataset2_path = 'ScienceData/height'\n",
    "    class_height_data = np.array(f[dataset2_path][()])\n",
    "\n",
    "    time_path = 'ScienceData/time'\n",
    "    class_time_data = np.array(f[time_path][()])"
   ]
  },
  {
   "cell_type": "code",
   "execution_count": 10,
   "id": "0226072c",
   "metadata": {},
   "outputs": [],
   "source": [
    "class_height = class_height_data/1000 # convert to km\n",
    "\n",
    "ref_time = datetime(2000, 1, 1, 0, 0, 0)\n",
    "class_time = [ref_time + timedelta(seconds=sec) for sec in class_time_data]"
   ]
  },
  {
   "cell_type": "code",
   "execution_count": 11,
   "id": "5c63259b",
   "metadata": {},
   "outputs": [],
   "source": [
    "time_grid, height_grid = np.meshgrid(class_time, np.arange(class_height.shape[1]), indexing='ij')"
   ]
  },
  {
   "cell_type": "code",
   "execution_count": 12,
   "id": "cf8add09",
   "metadata": {},
   "outputs": [],
   "source": [
    "custom_colors = [\n",
    "    '#c5c9c7', '#a2653e', '#ffffff', '#ff474c', '#0504aa', '#009337', '#840000',\n",
    "    '#042e60', '#d8dcd6', '#ffff84', '#f5bf03', '#f97306', '#ff000d', '#5539cc',\n",
    "    '#2976bb', '#0d75f8', '#014182', '#017b92', '#06b48b', '#aaff32', '#6dedfd',\n",
    "    '#01f9c6', '#7bc8f6', '#d7fffe', '#a2cffe', '#04d9ff', '#7a9703', '#b2996e',\n",
    "    '#ffbacd', '#d99b82', '#947e94', '#856798', '#ac86a8', '#59656d', '#76424e',\n",
    "    '#363737'\n",
    "]"
   ]
  },
  {
   "cell_type": "code",
   "execution_count": 13,
   "id": "4d621549",
   "metadata": {},
   "outputs": [
    {
     "name": "stderr",
     "output_type": "stream",
     "text": [
      "/var/folders/s0/p4kwg0r17s59t6f4g9btngzw0000gn/T/ipykernel_79734/1206662534.py:5: UserWarning: The input coordinates to pcolormesh are interpreted as cell centers, but are not monotonically increasing or decreasing. This may lead to incorrectly calculated cell edges, in which case, please supply explicit cell edges to pcolormesh.\n",
      "  pcm = ax.pcolormesh(time_grid, class_height, class_data, cmap=cmap, shading='auto')\n",
      "/var/folders/s0/p4kwg0r17s59t6f4g9btngzw0000gn/T/ipykernel_79734/1206662534.py:17: UserWarning: Creating legend with loc=\"best\" can be slow with large amounts of data.\n",
      "  plt.savefig('compare_cth_to_class.png', dpi=300)\n"
     ]
    },
    {
     "data": {
      "text/plain": [
       "<Figure size 640x480 with 0 Axes>"
      ]
     },
     "metadata": {},
     "output_type": "display_data"
    },
    {
     "name": "stderr",
     "output_type": "stream",
     "text": [
      "/Applications/anaconda3/envs/earthcare_analysis/lib/python3.13/site-packages/IPython/core/pylabtools.py:170: UserWarning: Creating legend with loc=\"best\" can be slow with large amounts of data.\n",
      "  fig.canvas.print_figure(bytes_io, **kw)\n"
     ]
    },
    {
     "data": {
      "image/png": "[encoded data removed]",
      "text/plain": [
       "<Figure size 900x400 with 1 Axes>"
      ]
     },
     "metadata": {},
     "output_type": "display_data"
    }
   ],
   "source": [
    "plt.figure()\n",
    "fig, ax = plt.subplots(figsize=(9, 4))\n",
    "\n",
    "cmap = ListedColormap(custom_colors)\n",
    "pcm = ax.pcolormesh(time_grid, class_height, class_data, cmap=cmap, shading='auto')\n",
    "\n",
    "ax.scatter(cth_time, cth, color='red', marker='x', s=2, label=\"Cloud Top Height\")\n",
    "\n",
    "ax.xaxis.set_major_formatter(mdates.DateFormatter('%Y-%m-%d %H:%M'))\n",
    "fig.autofmt_xdate()\n",
    "ax.legend()\n",
    "\n",
    "ax.set_title(\"\")\n",
    "ax.set_xlabel(\"Time\")\n",
    "ax.set_ylabel(\"Height (km)\")\n",
    "\n",
    "plt.savefig('compare_cth_to_class.png', dpi=300)\n",
    "plt.show()"
   ]
  },
  {
   "cell_type": "code",
   "execution_count": null,
   "id": "defc6b8b",
   "metadata": {},
   "outputs": [],
   "source": []
  }
 ],
 "metadata": {
  "kernelspec": {
   "display_name": "earthcare_analysis",
   "language": "python",
   "name": "python3"
  },
  "language_info": {
   "codemirror_mode": {
    "name": "ipython",
    "version": 3
   },
   "file_extension": ".py",
   "mimetype": "text/x-python",
   "name": "python",
   "nbconvert_exporter": "python",
   "pygments_lexer": "ipython3",
   "version": "3.13.5"
  }
 },
 "nbformat": 4,
 "nbformat_minor": 5
}
